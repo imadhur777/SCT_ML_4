{
 "cells": [
  {
   "cell_type": "code",
   "execution_count": 1,
   "id": "a1f86202",
   "metadata": {},
   "outputs": [
    {
     "name": "stdout",
     "output_type": "stream",
     "text": [
      "Pattern: C:\\Users\\amrit\\OneDrive\\Desktop\\leapGestRecog\\*\\01_palm\\*.png\n",
      "Found: 0\n",
      "Example: []\n"
     ]
    }
   ],
   "source": [
    "import glob, os\n",
    "\n",
    "data_dir = r\"C:\\Users\\amrit\\OneDrive\\Desktop\\leapGestRecog\"\n",
    "pattern = os.path.join(data_dir, \"*\", \"01_palm\", \"*.png\")\n",
    "files = glob.glob(pattern)\n",
    "\n",
    "print(\"Pattern:\", pattern)\n",
    "print(\"Found:\", len(files))\n",
    "print(\"Example:\", files[:5])\n"
   ]
  },
  {
   "cell_type": "code",
   "execution_count": 3,
   "id": "1a082b63",
   "metadata": {},
   "outputs": [
    {
     "name": "stdout",
     "output_type": "stream",
     "text": [
      "Pattern: C:\\Users\\amrit\\OneDrive\\Desktop\\SkillSoft4\\leapGestRecog\\*\\01_palm\\*.png\n",
      "Found: 2000\n",
      "Example: ['C:\\\\Users\\\\amrit\\\\OneDrive\\\\Desktop\\\\SkillSoft4\\\\leapGestRecog\\\\00\\\\01_palm\\\\frame_00_01_0001.png', 'C:\\\\Users\\\\amrit\\\\OneDrive\\\\Desktop\\\\SkillSoft4\\\\leapGestRecog\\\\00\\\\01_palm\\\\frame_00_01_0002.png', 'C:\\\\Users\\\\amrit\\\\OneDrive\\\\Desktop\\\\SkillSoft4\\\\leapGestRecog\\\\00\\\\01_palm\\\\frame_00_01_0003.png', 'C:\\\\Users\\\\amrit\\\\OneDrive\\\\Desktop\\\\SkillSoft4\\\\leapGestRecog\\\\00\\\\01_palm\\\\frame_00_01_0004.png', 'C:\\\\Users\\\\amrit\\\\OneDrive\\\\Desktop\\\\SkillSoft4\\\\leapGestRecog\\\\00\\\\01_palm\\\\frame_00_01_0005.png']\n"
     ]
    }
   ],
   "source": [
    "import glob, os\n",
    "\n",
    "data_dir = r\"C:\\Users\\amrit\\OneDrive\\Desktop\\SkillSoft4\\leapGestRecog\"\n",
    "pattern = os.path.join(data_dir, \"*\", \"01_palm\", \"*.png\")\n",
    "files = glob.glob(pattern)\n",
    "\n",
    "print(\"Pattern:\", pattern)\n",
    "print(\"Found:\", len(files))\n",
    "print(\"Example:\", files[:5])\n"
   ]
  }
 ],
 "metadata": {
  "kernelspec": {
   "display_name": "base",
   "language": "python",
   "name": "python3"
  },
  "language_info": {
   "codemirror_mode": {
    "name": "ipython",
    "version": 3
   },
   "file_extension": ".py",
   "mimetype": "text/x-python",
   "name": "python",
   "nbconvert_exporter": "python",
   "pygments_lexer": "ipython3",
   "version": "3.12.4"
  }
 },
 "nbformat": 4,
 "nbformat_minor": 5
}
